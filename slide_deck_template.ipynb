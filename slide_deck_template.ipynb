{
 "cells": [
  {
   "cell_type": "markdown",
   "metadata": {
    "slideshow": {
     "slide_type": "slide"
    }
   },
   "source": [
    "# (Investigating Courses Data )\n",
    "## by (Omar Waheed )"
   ]
  },
  {
   "cell_type": "markdown",
   "metadata": {
    "slideshow": {
     "slide_type": "slide"
    }
   },
   "source": [
    "## Investigation Overview\n",
    "\n",
    "> In this investigation I tried to find all valuable relations between variables and each other to make the best use of the data set  \n",
    "\n",
    "## Dataset Overview\n",
    "\n",
    "> This data set is sample of udemy courses data  gathered by using udemy devolper api and consists of 3682 row and 12 column this data collected at the beginning of 2020 for analysis purpose .\n",
    ">here is the most important data columns .\n",
    "\n",
    "| column name | usage |\n",
    "|--|--|\n",
    "| title | course name on the site  | \n",
    "| avg_rating | course rate  | \n",
    "| current_price | current course price  | \n",
    "| num_subscribers | number of course subscribers | \n",
    "| num_reviews | number of reviews for the course | \n",
    "| num_lectures | number of course lectures  | \n",
    "| primary_category | the main category that this course belong to  | \n",
    "| primary_subcategory | the sub category that this course belong to | \n",
    "| course_creation_date | date of creation  |\n",
    "| course_level | the level of knowledge this course belongs to  |\n"
   ]
  },
  {
   "cell_type": "code",
   "execution_count": 1,
   "metadata": {
    "slideshow": {
     "slide_type": "skip"
    }
   },
   "outputs": [],
   "source": [
    "# import all packages and set plots to be embedded inline\n",
    "import numpy as np\n",
    "import pandas as pd\n",
    "import matplotlib.pyplot as plt\n",
    "import seaborn as sb\n",
    "base_color = sb.color_palette()[0]\n",
    "%matplotlib inline\n",
    "\n",
    "# suppress warnings from final output\n",
    "import warnings\n",
    "warnings.simplefilter(\"ignore\")"
   ]
  },
  {
   "cell_type": "code",
   "execution_count": 2,
   "metadata": {
    "slideshow": {
     "slide_type": "skip"
    }
   },
   "outputs": [
    {
     "data": {
      "text/html": [
       "<div>\n",
       "<style scoped>\n",
       "    .dataframe tbody tr th:only-of-type {\n",
       "        vertical-align: middle;\n",
       "    }\n",
       "\n",
       "    .dataframe tbody tr th {\n",
       "        vertical-align: top;\n",
       "    }\n",
       "\n",
       "    .dataframe thead th {\n",
       "        text-align: right;\n",
       "    }\n",
       "</style>\n",
       "<table border=\"1\" class=\"dataframe\">\n",
       "  <thead>\n",
       "    <tr style=\"text-align: right;\">\n",
       "      <th></th>\n",
       "      <th>0</th>\n",
       "      <th>1</th>\n",
       "      <th>2</th>\n",
       "      <th>3</th>\n",
       "      <th>4</th>\n",
       "    </tr>\n",
       "  </thead>\n",
       "  <tbody>\n",
       "    <tr>\n",
       "      <th>title</th>\n",
       "      <td>Deep Learning : Computer Vision Beginner to Ad...</td>\n",
       "      <td>Machine Learning and Data Science Hands-on wit...</td>\n",
       "      <td>Machine Learning (ML) Bootcamp: Python, Tensor...</td>\n",
       "      <td>Learn to Code with Python 3!</td>\n",
       "      <td>Mastering Visual Studio Code</td>\n",
       "    </tr>\n",
       "    <tr>\n",
       "      <th>url</th>\n",
       "      <td>https://www.udemy.com/course/deep-learning-pyt...</td>\n",
       "      <td>https://www.udemy.com/course/machine-learning-...</td>\n",
       "      <td>https://www.udemy.com/course/ml-bootcamp/</td>\n",
       "      <td>https://www.udemy.com/course/python3-for-begin...</td>\n",
       "      <td>https://www.udemy.com/course/mastering-visual-...</td>\n",
       "    </tr>\n",
       "    <tr>\n",
       "      <th>id</th>\n",
       "      <td>2494264</td>\n",
       "      <td>1978034</td>\n",
       "      <td>2229568</td>\n",
       "      <td>2371066</td>\n",
       "      <td>2664746</td>\n",
       "    </tr>\n",
       "    <tr>\n",
       "      <th>avg_rating</th>\n",
       "      <td>4.39286</td>\n",
       "      <td>3.72727</td>\n",
       "      <td>4.4375</td>\n",
       "      <td>4.11301</td>\n",
       "      <td>4.25806</td>\n",
       "    </tr>\n",
       "    <tr>\n",
       "      <th>price</th>\n",
       "      <td>199.99</td>\n",
       "      <td>199.99</td>\n",
       "      <td>189.99</td>\n",
       "      <td>199.99</td>\n",
       "      <td>49.99</td>\n",
       "    </tr>\n",
       "    <tr>\n",
       "      <th>current_price</th>\n",
       "      <td>11.99</td>\n",
       "      <td>11.99</td>\n",
       "      <td>11.99</td>\n",
       "      <td>11.99</td>\n",
       "      <td>11.99</td>\n",
       "    </tr>\n",
       "    <tr>\n",
       "      <th>headline</th>\n",
       "      <td>Go Beginner to Pro in Computer Vision in Pytor...</td>\n",
       "      <td>Machine Learning, Statistics, Python, AI, Tens...</td>\n",
       "      <td>Master the 3 M's of ML: Maths, Methods and Mac...</td>\n",
       "      <td>Go from beginner to advanced with the Python p...</td>\n",
       "      <td>Boost your productivity by using the best IDE ...</td>\n",
       "    </tr>\n",
       "    <tr>\n",
       "      <th>num_subscribers</th>\n",
       "      <td>7758</td>\n",
       "      <td>46560</td>\n",
       "      <td>6860</td>\n",
       "      <td>92051</td>\n",
       "      <td>3119</td>\n",
       "    </tr>\n",
       "    <tr>\n",
       "      <th>num_reviews</th>\n",
       "      <td>85</td>\n",
       "      <td>1103</td>\n",
       "      <td>8</td>\n",
       "      <td>1191</td>\n",
       "      <td>31</td>\n",
       "    </tr>\n",
       "    <tr>\n",
       "      <th>num_lectures</th>\n",
       "      <td>74</td>\n",
       "      <td>522</td>\n",
       "      <td>48</td>\n",
       "      <td>78</td>\n",
       "      <td>66</td>\n",
       "    </tr>\n",
       "    <tr>\n",
       "      <th>primary_category</th>\n",
       "      <td>development</td>\n",
       "      <td>development</td>\n",
       "      <td>development</td>\n",
       "      <td>development</td>\n",
       "      <td>development</td>\n",
       "    </tr>\n",
       "    <tr>\n",
       "      <th>primary_category_link</th>\n",
       "      <td>https://www.udemy.com/courses/development/</td>\n",
       "      <td>https://www.udemy.com/courses/development/</td>\n",
       "      <td>https://www.udemy.com/courses/development/</td>\n",
       "      <td>https://www.udemy.com/courses/development/</td>\n",
       "      <td>https://www.udemy.com/courses/development/</td>\n",
       "    </tr>\n",
       "    <tr>\n",
       "      <th>primary_subcategory</th>\n",
       "      <td>data-science</td>\n",
       "      <td>data-science</td>\n",
       "      <td>data-science</td>\n",
       "      <td>programming-languages</td>\n",
       "      <td>other-it-and-software</td>\n",
       "    </tr>\n",
       "    <tr>\n",
       "      <th>primary_subcategory_link</th>\n",
       "      <td>https://www.udemy.com/courses/development/data...</td>\n",
       "      <td>https://www.udemy.com/courses/development/data...</td>\n",
       "      <td>https://www.udemy.com/courses/development/data...</td>\n",
       "      <td>https://www.udemy.com/courses/development/prog...</td>\n",
       "      <td>https://www.udemy.com/courses/development/othe...</td>\n",
       "    </tr>\n",
       "    <tr>\n",
       "      <th>course_creation_date</th>\n",
       "      <td>2019-08-05T03:56:57Z</td>\n",
       "      <td>2018-10-20T07:06:41Z</td>\n",
       "      <td>2019-02-19T19:41:12Z</td>\n",
       "      <td>2019-05-16T20:52:02Z</td>\n",
       "      <td>2019-11-20T14:57:47Z</td>\n",
       "    </tr>\n",
       "    <tr>\n",
       "      <th>instructor_name</th>\n",
       "      <td>Manifold AI Learning ®</td>\n",
       "      <td>EDU CBA</td>\n",
       "      <td>Samuel Reischl</td>\n",
       "      <td>Joseph Delgadillo</td>\n",
       "      <td>Alex Horea</td>\n",
       "    </tr>\n",
       "    <tr>\n",
       "      <th>instructor_Link</th>\n",
       "      <td>https://www.udemy.com/user/manifold-ai-learning/</td>\n",
       "      <td>https://www.udemy.com/user/premananda-suna/</td>\n",
       "      <td>https://www.udemy.com/user/samuel-reischl/</td>\n",
       "      <td>https://www.udemy.com/user/josephdelgadillo2/</td>\n",
       "      <td>https://www.udemy.com/user/alexhorea/</td>\n",
       "    </tr>\n",
       "    <tr>\n",
       "      <th>what_you_will_learn</th>\n",
       "      <td>['Master how to Perform Computer Vision Task w...</td>\n",
       "      <td>['Learn the use of Python for Data Science and...</td>\n",
       "      <td>['The three building blocks of Machine Learnin...</td>\n",
       "      <td>['Introduction to Python and Setup', 'Python P...</td>\n",
       "      <td>['Install and configure VSCode', 'Handle Exten...</td>\n",
       "    </tr>\n",
       "    <tr>\n",
       "      <th>description_non_formatted</th>\n",
       "      <td>&lt;p&gt;With the &lt;strong&gt;Deep learning&lt;/strong&gt; mak...</td>\n",
       "      <td>&lt;p&gt;Learn from well designed, well-crafted stud...</td>\n",
       "      <td>&lt;p&gt;Do you want to &lt;strong&gt;master Machine Learn...</td>\n",
       "      <td>&lt;p&gt;If you would like to learn &lt;strong&gt;Python 3...</td>\n",
       "      <td>&lt;p&gt;&lt;strong&gt;Visual Studio Code&lt;/strong&gt; is the ...</td>\n",
       "    </tr>\n",
       "    <tr>\n",
       "      <th>reviews</th>\n",
       "      <td>[[5.0, 'good course with neat explanations'], ...</td>\n",
       "      <td>[[5.0, 'the teaching is very good and they giv...</td>\n",
       "      <td>[[4.0, 'El contenido ha sido claro en el proce...</td>\n",
       "      <td>[[4.0, 'yes'], [3.5, 'the recording is kind of...</td>\n",
       "      <td>[[5.0, 'Vscode has so many features and it’s e...</td>\n",
       "    </tr>\n",
       "    <tr>\n",
       "      <th>course_level</th>\n",
       "      <td>All Levels</td>\n",
       "      <td>All Levels</td>\n",
       "      <td>All Levels</td>\n",
       "      <td>All Levels</td>\n",
       "      <td>Intermediate Level</td>\n",
       "    </tr>\n",
       "    <tr>\n",
       "      <th>small_image_link</th>\n",
       "      <td>https://i.udemycdn.com/course/96x54/2494264_9a...</td>\n",
       "      <td>https://i.udemycdn.com/course/96x54/1978034_1c...</td>\n",
       "      <td>https://i.udemycdn.com/course/96x54/2229568_3a...</td>\n",
       "      <td>https://i.udemycdn.com/course/96x54/2371066_74...</td>\n",
       "      <td>https://i.udemycdn.com/course/96x54/2664746_b9...</td>\n",
       "    </tr>\n",
       "    <tr>\n",
       "      <th>medium_image</th>\n",
       "      <td>https://i.udemycdn.com/course/125_H/2494264_9a...</td>\n",
       "      <td>https://i.udemycdn.com/course/125_H/1978034_1c...</td>\n",
       "      <td>https://i.udemycdn.com/course/125_H/2229568_3a...</td>\n",
       "      <td>https://i.udemycdn.com/course/125_H/2371066_74...</td>\n",
       "      <td>https://i.udemycdn.com/course/125_H/2664746_b9...</td>\n",
       "    </tr>\n",
       "  </tbody>\n",
       "</table>\n",
       "</div>"
      ],
      "text/plain": [
       "                                                                           0  \\\n",
       "title                      Deep Learning : Computer Vision Beginner to Ad...   \n",
       "url                        https://www.udemy.com/course/deep-learning-pyt...   \n",
       "id                                                                   2494264   \n",
       "avg_rating                                                           4.39286   \n",
       "price                                                                 199.99   \n",
       "current_price                                                          11.99   \n",
       "headline                   Go Beginner to Pro in Computer Vision in Pytor...   \n",
       "num_subscribers                                                         7758   \n",
       "num_reviews                                                               85   \n",
       "num_lectures                                                              74   \n",
       "primary_category                                                 development   \n",
       "primary_category_link             https://www.udemy.com/courses/development/   \n",
       "primary_subcategory                                             data-science   \n",
       "primary_subcategory_link   https://www.udemy.com/courses/development/data...   \n",
       "course_creation_date                                    2019-08-05T03:56:57Z   \n",
       "instructor_name                                       Manifold AI Learning ®   \n",
       "instructor_Link             https://www.udemy.com/user/manifold-ai-learning/   \n",
       "what_you_will_learn        ['Master how to Perform Computer Vision Task w...   \n",
       "description_non_formatted  <p>With the <strong>Deep learning</strong> mak...   \n",
       "reviews                    [[5.0, 'good course with neat explanations'], ...   \n",
       "course_level                                                      All Levels   \n",
       "small_image_link           https://i.udemycdn.com/course/96x54/2494264_9a...   \n",
       "medium_image               https://i.udemycdn.com/course/125_H/2494264_9a...   \n",
       "\n",
       "                                                                           1  \\\n",
       "title                      Machine Learning and Data Science Hands-on wit...   \n",
       "url                        https://www.udemy.com/course/machine-learning-...   \n",
       "id                                                                   1978034   \n",
       "avg_rating                                                           3.72727   \n",
       "price                                                                 199.99   \n",
       "current_price                                                          11.99   \n",
       "headline                   Machine Learning, Statistics, Python, AI, Tens...   \n",
       "num_subscribers                                                        46560   \n",
       "num_reviews                                                             1103   \n",
       "num_lectures                                                             522   \n",
       "primary_category                                                 development   \n",
       "primary_category_link             https://www.udemy.com/courses/development/   \n",
       "primary_subcategory                                             data-science   \n",
       "primary_subcategory_link   https://www.udemy.com/courses/development/data...   \n",
       "course_creation_date                                    2018-10-20T07:06:41Z   \n",
       "instructor_name                                                      EDU CBA   \n",
       "instructor_Link                  https://www.udemy.com/user/premananda-suna/   \n",
       "what_you_will_learn        ['Learn the use of Python for Data Science and...   \n",
       "description_non_formatted  <p>Learn from well designed, well-crafted stud...   \n",
       "reviews                    [[5.0, 'the teaching is very good and they giv...   \n",
       "course_level                                                      All Levels   \n",
       "small_image_link           https://i.udemycdn.com/course/96x54/1978034_1c...   \n",
       "medium_image               https://i.udemycdn.com/course/125_H/1978034_1c...   \n",
       "\n",
       "                                                                           2  \\\n",
       "title                      Machine Learning (ML) Bootcamp: Python, Tensor...   \n",
       "url                                https://www.udemy.com/course/ml-bootcamp/   \n",
       "id                                                                   2229568   \n",
       "avg_rating                                                            4.4375   \n",
       "price                                                                 189.99   \n",
       "current_price                                                          11.99   \n",
       "headline                   Master the 3 M's of ML: Maths, Methods and Mac...   \n",
       "num_subscribers                                                         6860   \n",
       "num_reviews                                                                8   \n",
       "num_lectures                                                              48   \n",
       "primary_category                                                 development   \n",
       "primary_category_link             https://www.udemy.com/courses/development/   \n",
       "primary_subcategory                                             data-science   \n",
       "primary_subcategory_link   https://www.udemy.com/courses/development/data...   \n",
       "course_creation_date                                    2019-02-19T19:41:12Z   \n",
       "instructor_name                                               Samuel Reischl   \n",
       "instructor_Link                   https://www.udemy.com/user/samuel-reischl/   \n",
       "what_you_will_learn        ['The three building blocks of Machine Learnin...   \n",
       "description_non_formatted  <p>Do you want to <strong>master Machine Learn...   \n",
       "reviews                    [[4.0, 'El contenido ha sido claro en el proce...   \n",
       "course_level                                                      All Levels   \n",
       "small_image_link           https://i.udemycdn.com/course/96x54/2229568_3a...   \n",
       "medium_image               https://i.udemycdn.com/course/125_H/2229568_3a...   \n",
       "\n",
       "                                                                           3  \\\n",
       "title                                           Learn to Code with Python 3!   \n",
       "url                        https://www.udemy.com/course/python3-for-begin...   \n",
       "id                                                                   2371066   \n",
       "avg_rating                                                           4.11301   \n",
       "price                                                                 199.99   \n",
       "current_price                                                          11.99   \n",
       "headline                   Go from beginner to advanced with the Python p...   \n",
       "num_subscribers                                                        92051   \n",
       "num_reviews                                                             1191   \n",
       "num_lectures                                                              78   \n",
       "primary_category                                                 development   \n",
       "primary_category_link             https://www.udemy.com/courses/development/   \n",
       "primary_subcategory                                    programming-languages   \n",
       "primary_subcategory_link   https://www.udemy.com/courses/development/prog...   \n",
       "course_creation_date                                    2019-05-16T20:52:02Z   \n",
       "instructor_name                                            Joseph Delgadillo   \n",
       "instructor_Link                https://www.udemy.com/user/josephdelgadillo2/   \n",
       "what_you_will_learn        ['Introduction to Python and Setup', 'Python P...   \n",
       "description_non_formatted  <p>If you would like to learn <strong>Python 3...   \n",
       "reviews                    [[4.0, 'yes'], [3.5, 'the recording is kind of...   \n",
       "course_level                                                      All Levels   \n",
       "small_image_link           https://i.udemycdn.com/course/96x54/2371066_74...   \n",
       "medium_image               https://i.udemycdn.com/course/125_H/2371066_74...   \n",
       "\n",
       "                                                                           4  \n",
       "title                                           Mastering Visual Studio Code  \n",
       "url                        https://www.udemy.com/course/mastering-visual-...  \n",
       "id                                                                   2664746  \n",
       "avg_rating                                                           4.25806  \n",
       "price                                                                  49.99  \n",
       "current_price                                                          11.99  \n",
       "headline                   Boost your productivity by using the best IDE ...  \n",
       "num_subscribers                                                         3119  \n",
       "num_reviews                                                               31  \n",
       "num_lectures                                                              66  \n",
       "primary_category                                                 development  \n",
       "primary_category_link             https://www.udemy.com/courses/development/  \n",
       "primary_subcategory                                    other-it-and-software  \n",
       "primary_subcategory_link   https://www.udemy.com/courses/development/othe...  \n",
       "course_creation_date                                    2019-11-20T14:57:47Z  \n",
       "instructor_name                                                   Alex Horea  \n",
       "instructor_Link                        https://www.udemy.com/user/alexhorea/  \n",
       "what_you_will_learn        ['Install and configure VSCode', 'Handle Exten...  \n",
       "description_non_formatted  <p><strong>Visual Studio Code</strong> is the ...  \n",
       "reviews                    [[5.0, 'Vscode has so many features and it’s e...  \n",
       "course_level                                              Intermediate Level  \n",
       "small_image_link           https://i.udemycdn.com/course/96x54/2664746_b9...  \n",
       "medium_image               https://i.udemycdn.com/course/125_H/2664746_b9...  "
      ]
     },
     "execution_count": 2,
     "metadata": {},
     "output_type": "execute_result"
    }
   ],
   "source": [
    "# load in the dataset into a pandas dataframe\n",
    "courses_data = pd.read_csv('MyUdemyCoursesData.csv')\n",
    "courses_data.head().T"
   ]
  },
  {
   "cell_type": "code",
   "execution_count": 3,
   "metadata": {
    "slideshow": {
     "slide_type": "skip"
    }
   },
   "outputs": [],
   "source": [
    "courses_data.drop(columns=['url', 'primary_category_link' , 'primary_subcategory_link' , 'instructor_name' , 'instructor_Link' ,'what_you_will_learn' ,'description_non_formatted' , 'reviews' ,'small_image_link' , 'medium_image'],inplace=True)\n",
    "courses_data.dropna(inplace=True)\n",
    "courses_data[\"paid\"] = 'paid'\n",
    "# assign false to courses with price 0 \n",
    "courses_data.loc[(courses_data.current_price == 0.0),'paid']=\"free\""
   ]
  },
  {
   "cell_type": "code",
   "execution_count": 4,
   "metadata": {
    "slideshow": {
     "slide_type": "skip"
    }
   },
   "outputs": [],
   "source": [
    "time_series = courses_data.copy()\n",
    "time_series[\"course_creation_date\"]=  pd.to_datetime(time_series[\"course_creation_date\"])\n",
    "time_series['year']= time_series.course_creation_date.dt.year\n",
    "time_series['month'] = time_series.course_creation_date.dt.month"
   ]
  },
  {
   "cell_type": "markdown",
   "metadata": {
    "slideshow": {
     "slide_type": "slide"
    }
   },
   "source": [
    "## (Courses Creation Year Distribution)\n",
    "\n",
    "Udemy was founded at 2010 so we can see it was growing rapidly over years and its courses become famous fast "
   ]
  },
  {
   "cell_type": "code",
   "execution_count": 14,
   "metadata": {
    "slideshow": {
     "slide_type": "subslide"
    }
   },
   "outputs": [
    {
     "data": {
      "image/png": "[encoded data removed]",
      "text/plain": [
       "<Figure size 1080x360 with 1 Axes>"
      ]
     },
     "metadata": {
      "needs_background": "light"
     },
     "output_type": "display_data"
    }
   ],
   "source": [
    "sb.countplot(data = time_series[time_series['year']<2019], x = 'year', color = base_color)\n",
    "plt.title('Courses Creation Distribution Yearly')\n",
    "plt.xlabel('year (year)')\n",
    "plt.ylabel('courses Count (course)')\n",
    "fig = plt.gcf()\n",
    "fig.set_size_inches(15,5)"
   ]
  },
  {
   "cell_type": "markdown",
   "metadata": {
    "slideshow": {
     "slide_type": "slide"
    }
   },
   "source": [
    "## ( Distribution Of paid vs free Courses)\n",
    "\n",
    "> Udemy paid courses have more features than free courses as course duration is not limited with 2 hours  also students and instructors could connect together and paid courses provide a valuable certificate at the end of the course so both instructors and students prefer paid courses over free one  ."
   ]
  },
  {
   "cell_type": "code",
   "execution_count": 13,
   "metadata": {
    "slideshow": {
     "slide_type": "subslide"
    }
   },
   "outputs": [
    {
     "data": {
      "image/png": "[encoded data removed]",
      "text/plain": [
       "<Figure size 1440x720 with 1 Axes>"
      ]
     },
     "metadata": {},
     "output_type": "display_data"
    }
   ],
   "source": [
    "sorted_counts = courses_data['paid'].value_counts()\n",
    "plt.pie(sorted_counts, labels = sorted_counts.index, startangle = 90, counterclock = False,autopct='%1.2f');\n",
    "plt.title('Courses Types with percentages ')\n",
    "fig = plt.gcf()\n",
    "fig.set_size_inches(20, 10)\n"
   ]
  },
  {
   "cell_type": "markdown",
   "metadata": {
    "slideshow": {
     "slide_type": "slide"
    }
   },
   "source": [
    "## (Courses Price Distribution )\n",
    "\n",
    "> As we mentioned udemy paid courses have more advantages and on the same times udemy prices is quite good that may explain why it had high demand courses range is very good  ."
   ]
  },
  {
   "cell_type": "code",
   "execution_count": 12,
   "metadata": {
    "slideshow": {
     "slide_type": "subslide"
    }
   },
   "outputs": [
    {
     "data": {
      "image/png": "[encoded data removed]",
      "text/plain": [
       "<Figure size 1080x360 with 1 Axes>"
      ]
     },
     "metadata": {
      "needs_background": "light"
     },
     "output_type": "display_data"
    }
   ],
   "source": [
    "courses_data= courses_data[courses_data[\"current_price\"]<=25]\n",
    "time_series = time_series[time_series[\"current_price\"]<=25]\n",
    "sb.countplot( data=courses_data ,x='current_price',color = base_color)\n",
    "plt.title('Courses Price Distribution ')\n",
    "plt.xlabel('price ($)')\n",
    "plt.ylabel('courses Count (course)')\n",
    "fig = plt.gcf()\n",
    "fig.set_size_inches(15, 5)"
   ]
  },
  {
   "cell_type": "markdown",
   "metadata": {
    "collapsed": true,
    "slideshow": {
     "slide_type": "slide"
    }
   },
   "source": [
    "## (Course Level Distribution )\n",
    "\n",
    "> If you are an instructor you are seeking the biggest part of customer so we see that courses that for all levels come in the first place while courses that is specific to some levels comes second "
   ]
  },
  {
   "cell_type": "code",
   "execution_count": 11,
   "metadata": {
    "slideshow": {
     "slide_type": "subslide"
    }
   },
   "outputs": [
    {
     "data": {
      "image/png": "[encoded data removed]",
      "text/plain": [
       "<Figure size 1440x360 with 1 Axes>"
      ]
     },
     "metadata": {
      "needs_background": "light"
     },
     "output_type": "display_data"
    }
   ],
   "source": [
    "Levels_count = courses_data['course_level'].value_counts()\n",
    "Levels_order = Levels_count.index\n",
    "\n",
    "sb.countplot(data=courses_data, x='course_level', color=base_color, order=Levels_order);\n",
    "df_count = courses_data.shape[0]\n",
    "# Recalculating the type_counts just to have clarity.\n",
    "type_counts = courses_data['course_level'].value_counts()\n",
    "\n",
    "# get the current tick locations and labels\n",
    "locs, labels = plt.xticks(rotation=90) \n",
    "\n",
    "# loop through each pair of locations and labels\n",
    "for loc, label in zip(locs, labels):\n",
    "\n",
    "    # get the text property for the label to get the correct count\n",
    "    count = type_counts[label.get_text()]\n",
    "    pct_string = '{:0.1f}%'.format(100*count/df_count)\n",
    "\n",
    "    # print the annotation just below the top of the bar\n",
    "    plt.text(loc, count+2, pct_string, ha = 'center', color = 'black')\n",
    "\n",
    "plt.title('Courses Level Distribution')\n",
    "plt.xticks(rotation=45)\n",
    "plt.xlabel('Course Level (Level)')\n",
    "plt.ylabel('courses Count (course)')\n",
    "fig = plt.gcf()\n",
    "# Change seaborn plot size\n",
    "fig.set_size_inches(20, 5)"
   ]
  },
  {
   "cell_type": "markdown",
   "metadata": {
    "collapsed": true,
    "slideshow": {
     "slide_type": "slide"
    }
   },
   "source": [
    "## (Courses average rating by color and Number of Subscribers )\n",
    "\n",
    "> Both types of udemy courses free and paid get high ratings from subscribers as they listen for customers opinions and do the best for them "
   ]
  },
  {
   "cell_type": "code",
   "execution_count": 10,
   "metadata": {
    "slideshow": {
     "slide_type": "subslide"
    }
   },
   "outputs": [
    {
     "data": {
      "image/png": "[encoded data removed]",
      "text/plain": [
       "<Figure size 1080x576 with 1 Axes>"
      ]
     },
     "metadata": {
      "needs_background": "light"
     },
     "output_type": "display_data"
    }
   ],
   "source": [
    "g = sb.FacetGrid(data = courses_data, hue = 'paid',size=10 )\n",
    "g.map(plt.scatter, 'num_subscribers', 'avg_rating')\n",
    "g.add_legend()\n",
    "plt.title('Courses average rating by color and Number of Subscribers')\n",
    "plt.xlabel('Number of Subscribers (Subscriber)')\n",
    "plt.ylabel('Course Average rate ')\n",
    "fig = plt.gcf()\n",
    "# Change seaborn plot size\n",
    "fig.set_size_inches(15, 8)"
   ]
  },
  {
   "cell_type": "markdown",
   "metadata": {
    "slideshow": {
     "slide_type": "notes"
    }
   },
   "source": [
    "> Once you're ready to finish your presentation, check your output by using\n",
    "nbconvert to export the notebook and set up a server for the slides. From the\n",
    "terminal or command line, use the following expression:\n",
    "> > `jupyter nbconvert slide_deck_template.ipynb --to slides --post serve --template output_toggle`\n",
    "\n",
    "> This should open a tab in your web browser where you can scroll through your\n",
    "presentation. Sub-slides can be accessed by pressing 'down' when viewing its parent\n",
    "slide. Make sure you remove all of the quote-formatted guide notes like this one\n",
    "before you finish your presentation!"
   ]
  },
  {
   "cell_type": "code",
   "execution_count": null,
   "metadata": {},
   "outputs": [],
   "source": []
  }
 ],
 "metadata": {
  "celltoolbar": "Slideshow",
  "kernelspec": {
   "display_name": "Python 3",
   "language": "python",
   "name": "python3"
  },
  "language_info": {
   "codemirror_mode": {
    "name": "ipython",
    "version": 3
   },
   "file_extension": ".py",
   "mimetype": "text/x-python",
   "name": "python",
   "nbconvert_exporter": "python",
   "pygments_lexer": "ipython3",
   "version": "3.6.7"
  },
  "latex_envs": {
   "LaTeX_envs_menu_present": true,
   "autoclose": false,
   "autocomplete": true,
   "bibliofile": "biblio.bib",
   "cite_by": "apalike",
   "current_citInitial": 1,
   "eqLabelWithNumbers": true,
   "eqNumInitial": 1,
   "hotkeys": {
    "equation": "Ctrl-E",
    "itemize": "Ctrl-I"
   },
   "labels_anchors": false,
   "latex_user_defs": false,
   "report_style_numbering": false,
   "user_envs_cfg": false
  },
  "toc": {
   "base_numbering": 1,
   "nav_menu": {},
   "number_sections": false,
   "sideBar": true,
   "skip_h1_title": false,
   "title_cell": "Table of Contents",
   "title_sidebar": "Contents",
   "toc_cell": false,
   "toc_position": {},
   "toc_section_display": true,
   "toc_window_display": true
  },
  "varInspector": {
   "cols": {
    "lenName": 16,
    "lenType": 16,
    "lenVar": 40
   },
   "kernels_config": {
    "python": {
     "delete_cmd_postfix": "",
     "delete_cmd_prefix": "del ",
     "library": "var_list.py",
     "varRefreshCmd": "print(var_dic_list())"
    },
    "r": {
     "delete_cmd_postfix": ") ",
     "delete_cmd_prefix": "rm(",
     "library": "var_list.r",
     "varRefreshCmd": "cat(var_dic_list()) "
    }
   },
   "types_to_exclude": [
    "module",
    "function",
    "builtin_function_or_method",
    "instance",
    "_Feature"
   ],
   "window_display": false
  }
 },
 "nbformat": 4,
 "nbformat_minor": 2
}
